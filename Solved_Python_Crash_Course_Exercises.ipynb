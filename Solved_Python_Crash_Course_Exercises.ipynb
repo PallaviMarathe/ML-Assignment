{
  "nbformat": 4,
  "nbformat_minor": 0,
  "metadata": {
    "kernelspec": {
      "display_name": "Python 3",
      "language": "python",
      "name": "python3"
    },
    "language_info": {
      "codemirror_mode": {
        "name": "ipython",
        "version": 3
      },
      "file_extension": ".py",
      "mimetype": "text/x-python",
      "name": "python",
      "nbconvert_exporter": "python",
      "pygments_lexer": "ipython3",
      "version": "3.8.5"
    },
    "colab": {
      "name": "Copy of Solved - Python Crash Course Exercises.ipynb",
      "provenance": [],
      "collapsed_sections": []
    }
  },
  "cells": [
    {
      "cell_type": "markdown",
      "metadata": {
        "id": "9km7Ya7wdQCP"
      },
      "source": [
        "\n",
        "___\n",
        "# Python Course Exercises 1\n",
        "\n",
        "This is an optional exercise to test your understanding of Python Basics. If you find this extremely challenging, then you probably are not ready for the rest of this course yet and don't have enough programming experience to continue. I would suggest you take another course more geared towards complete beginners."
      ]
    },
    {
      "cell_type": "markdown",
      "metadata": {
        "id": "eDD34Ae1dQCd"
      },
      "source": [
        "## Exercises\n",
        "\n",
        "Answer the questions or complete the tasks outlined in bold below, use the specific method described if applicable."
      ]
    },
    {
      "cell_type": "markdown",
      "metadata": {
        "id": "IPD622CcdQCe"
      },
      "source": [
        "** What is 7 to the power of 4?**"
      ]
    },
    {
      "cell_type": "code",
      "metadata": {
        "id": "69CB70ZbdQCf",
        "outputId": "b6c849e9-f96e-4820-eb6f-30821d668389"
      },
      "source": [
        "7**4"
      ],
      "execution_count": null,
      "outputs": [
        {
          "output_type": "execute_result",
          "data": {
            "text/plain": [
              "2401"
            ]
          },
          "metadata": {
            "tags": []
          },
          "execution_count": 3
        }
      ]
    },
    {
      "cell_type": "markdown",
      "metadata": {
        "id": "tSKbVHIPdQCh"
      },
      "source": [
        "** Split this string:**\n",
        "\n",
        "    s = \"Hi there Yogesh!\"\n",
        "    \n",
        "**into a list. **"
      ]
    },
    {
      "cell_type": "code",
      "metadata": {
        "id": "yxm1YGRRdQCi"
      },
      "source": [
        "s='Hi there yogesh'"
      ],
      "execution_count": null,
      "outputs": []
    },
    {
      "cell_type": "code",
      "metadata": {
        "id": "qiGban42dQCj",
        "outputId": "ec28cf03-1db2-4648-f9de-f0e1933ddc5b"
      },
      "source": [
        "s.split()"
      ],
      "execution_count": null,
      "outputs": [
        {
          "output_type": "execute_result",
          "data": {
            "text/plain": [
              "['Hi', 'there', 'Yogesh!']"
            ]
          },
          "metadata": {
            "tags": []
          },
          "execution_count": 5
        }
      ]
    },
    {
      "cell_type": "markdown",
      "metadata": {
        "id": "G2Bl-qELdQCj"
      },
      "source": [
        "** Given the variables:**\n",
        "\n",
        "    planet = \"Earth\"\n",
        "    diameter = 12742\n",
        "\n",
        "** Use .format() to print the following string: **\n",
        "\n",
        "    The diameter of Earth is 12742 kilometers."
      ]
    },
    {
      "cell_type": "code",
      "metadata": {
        "id": "iqWjmXF0dQCk"
      },
      "source": [
        "planet = \"Earth\"\n",
        "diameter = 12742"
      ],
      "execution_count": null,
      "outputs": []
    },
    {
      "cell_type": "code",
      "metadata": {
        "id": "Ps-EmRepdQCk",
        "outputId": "cda409b6-62d4-4351-b080-77c90c293acb"
      },
      "source": [
        "'The diameter of {} is {} kilometers'.format(planet,diameter)"
      ],
      "execution_count": null,
      "outputs": [
        {
          "output_type": "execute_result",
          "data": {
            "text/plain": [
              "'The diameter of Earth is 12742 kilometers'"
            ]
          },
          "metadata": {
            "tags": []
          },
          "execution_count": 2
        }
      ]
    },
    {
      "cell_type": "markdown",
      "metadata": {
        "id": "uGgE14ZvdQCl"
      },
      "source": [
        "** Given this nested list, use indexing to grab the word \"hello\" **"
      ]
    },
    {
      "cell_type": "code",
      "metadata": {
        "id": "PpWsa5OtdQCl"
      },
      "source": [
        "lst = [1,2,[3,4],[5,[100,200,['hello']],23,11],1,7]"
      ],
      "execution_count": null,
      "outputs": []
    },
    {
      "cell_type": "code",
      "metadata": {
        "id": "yk2SeeiZdQCl",
        "outputId": "4fab37d1-ffad-4370-bf34-b2f126ba6e62"
      },
      "source": [
        "lst[3][1][2]"
      ],
      "execution_count": null,
      "outputs": [
        {
          "output_type": "execute_result",
          "data": {
            "text/plain": [
              "'hello'"
            ]
          },
          "metadata": {
            "tags": []
          },
          "execution_count": 8
        }
      ]
    },
    {
      "cell_type": "markdown",
      "metadata": {
        "id": "uWPjjs81dQCm"
      },
      "source": [
        "** Given this nested dictionary grab the word \"hello\". Be prepared, this will be annoying/tricky **"
      ]
    },
    {
      "cell_type": "code",
      "metadata": {
        "id": "VBJEGAhPdQCm"
      },
      "source": [
        "d = {'k1':[1,2,3,{'tricky':['oh','man','inception',{'target':[1,2,3,'hello']}]}]}"
      ],
      "execution_count": null,
      "outputs": []
    },
    {
      "cell_type": "code",
      "metadata": {
        "id": "t8CG9dyrdQCn",
        "outputId": "efac11af-5bd8-44c0-d77b-224b28760dd9"
      },
      "source": [
        "d['k1'][3]['tricky'][3]['target'][3]"
      ],
      "execution_count": null,
      "outputs": [
        {
          "output_type": "execute_result",
          "data": {
            "text/plain": [
              "'hello'"
            ]
          },
          "metadata": {
            "tags": []
          },
          "execution_count": 10
        }
      ]
    },
    {
      "cell_type": "markdown",
      "metadata": {
        "id": "efZghw4UdQCn"
      },
      "source": [
        "** What is the main difference between a tuple and a list? **"
      ]
    },
    {
      "cell_type": "code",
      "metadata": {
        "collapsed": true,
        "id": "NOWyyOWKdQCn"
      },
      "source": [
        "# Tuple is immutable"
      ],
      "execution_count": null,
      "outputs": []
    },
    {
      "cell_type": "markdown",
      "metadata": {
        "id": "rf-ZBYGydQCo"
      },
      "source": [
        "** Create a function that grabs the email website domain from a string in the form: **\n",
        "\n",
        "    user@domain.com\n",
        "    \n",
        "**So for example, passing \"user@domain.com\" would return: domain.com**"
      ]
    },
    {
      "cell_type": "code",
      "metadata": {
        "id": "Ckcz8N_UdQCo"
      },
      "source": [
        "def fun1(email):\n",
        "    return email.split('@')[1]"
      ],
      "execution_count": null,
      "outputs": []
    },
    {
      "cell_type": "code",
      "metadata": {
        "id": "-0CgCgCIdQCo",
        "outputId": "27f04c79-8f24-4e23-e639-012ce260fd74"
      },
      "source": [
        "fun1('abcd1234@gmail.com')"
      ],
      "execution_count": null,
      "outputs": [
        {
          "output_type": "execute_result",
          "data": {
            "text/plain": [
              "'gmail.com'"
            ]
          },
          "metadata": {
            "tags": []
          },
          "execution_count": 21
        }
      ]
    },
    {
      "cell_type": "markdown",
      "metadata": {
        "id": "R14BeQXQdQCp"
      },
      "source": [
        "** Create a basic function that returns True if the word 'dog' is contained in the input string. Don't worry about edge cases like a punctuation being attached to the word dog, but do account for capitalization. **"
      ]
    },
    {
      "cell_type": "code",
      "metadata": {
        "collapsed": true,
        "id": "QaD9Iy3-dQCp"
      },
      "source": [
        "def findDog(s1):\n",
        "    return 'dog' in s1"
      ],
      "execution_count": null,
      "outputs": []
    },
    {
      "cell_type": "code",
      "metadata": {
        "id": "qpzE8UZ3dQCp",
        "outputId": "1dff32a8-5195-4186-dabd-3ab4661f61c9"
      },
      "source": [
        "findDog('Is there a dog here?')"
      ],
      "execution_count": null,
      "outputs": [
        {
          "output_type": "execute_result",
          "data": {
            "text/plain": [
              "True"
            ]
          },
          "metadata": {
            "tags": []
          },
          "execution_count": 28
        }
      ]
    },
    {
      "cell_type": "markdown",
      "metadata": {
        "id": "AD84n58NdQCq"
      },
      "source": [
        "** Create a function that counts the number of times the word \"dog\" occurs in a string. Again ignore edge cases. **"
      ]
    },
    {
      "cell_type": "code",
      "metadata": {
        "id": "XeeyDapgdQCq"
      },
      "source": [
        "def countDog(s1):\n",
        "    count=0\n",
        "    for i in s1.split():\n",
        "       if(i=='dog'):\n",
        "           count=count+1 \n",
        "    return count"
      ],
      "execution_count": null,
      "outputs": []
    },
    {
      "cell_type": "code",
      "metadata": {
        "id": "v0EyJPfzdQCq",
        "outputId": "515425c1-3bf6-469c-e86b-b86be5561c74"
      },
      "source": [
        "countDog('This dog runs faster than the other dog dude!')"
      ],
      "execution_count": null,
      "outputs": [
        {
          "output_type": "execute_result",
          "data": {
            "text/plain": [
              "2"
            ]
          },
          "metadata": {
            "tags": []
          },
          "execution_count": 31
        }
      ]
    },
    {
      "cell_type": "markdown",
      "metadata": {
        "id": "XYgvnt4RdQCr"
      },
      "source": [
        "** Use lambda expressions and the filter() function to filter out words from a list that don't start with the letter 's'. For example:**\n",
        "\n",
        "    seq = ['soup','dog','salad','cat','great']\n",
        "\n",
        "**should be filtered down to:**\n",
        "\n",
        "    ['soup','salad']"
      ]
    },
    {
      "cell_type": "code",
      "metadata": {
        "collapsed": true,
        "id": "S6pzir8SdQCr"
      },
      "source": [
        "seq = ['soup','dog','salad','cat','great']"
      ],
      "execution_count": null,
      "outputs": []
    },
    {
      "cell_type": "code",
      "metadata": {
        "id": "0_J7wFnAdQCr",
        "outputId": "d5188460-60e7-44ac-a26b-f60e96cc35cc"
      },
      "source": [
        "list(filter(lambda i:i[0]=='s',seq))"
      ],
      "execution_count": null,
      "outputs": [
        {
          "output_type": "execute_result",
          "data": {
            "text/plain": [
              "['soup', 'salad']"
            ]
          },
          "metadata": {
            "tags": []
          },
          "execution_count": 35
        }
      ]
    },
    {
      "cell_type": "markdown",
      "metadata": {
        "id": "D0Fs2wKsdQCs"
      },
      "source": [
        "### Final Problem\n",
        "**You are driving a little too fast, and a police officer stops you. Write a function\n",
        "  to return one of 3 possible results: \"No ticket\", \"Small ticket\", or \"Big Ticket\". \n",
        "  If your speed is 60 or less, the result is \"No Ticket\". If speed is between 61 \n",
        "  and 80 inclusive, the result is \"Small Ticket\". If speed is 81 or more, the result is \"Big    Ticket\". Unless it is your birthday (encoded as a boolean value in the parameters of the function) -- on your birthday, your speed can be 5 higher in all \n",
        "  cases. **"
      ]
    },
    {
      "cell_type": "code",
      "metadata": {
        "collapsed": true,
        "id": "uhEFyn-TdQCs"
      },
      "source": [
        "def caught_speeding(speed, is_birthday):\n",
        "    if is_birthday:\n",
        "        speed=speed-5\n",
        "    else:\n",
        "        speed=speed\n",
        "    if speed>=80:\n",
        "        print(\"No ticket\")\n",
        "    elif speed>=60:\n",
        "        print(\"small ticket\")\n",
        "    else:\n",
        "        print(\" big ticket\")"
      ],
      "execution_count": null,
      "outputs": []
    },
    {
      "cell_type": "code",
      "metadata": {
        "id": "diBABws7dQCt",
        "outputId": "68d12fd4-3a6d-4992-bdc1-5df3a99e88e4"
      },
      "source": [
        "caught_speeding(81,True)"
      ],
      "execution_count": null,
      "outputs": [
        {
          "output_type": "execute_result",
          "data": {
            "text/plain": [
              "'Small Ticket'"
            ]
          },
          "metadata": {
            "tags": []
          },
          "execution_count": 42
        }
      ]
    },
    {
      "cell_type": "code",
      "metadata": {
        "id": "v41rdHrWdQCt",
        "outputId": "48ab6c7d-2ecd-49e6-c8fe-4bafa0fb954f"
      },
      "source": [
        "caught_speeding(81,False)"
      ],
      "execution_count": null,
      "outputs": [
        {
          "output_type": "execute_result",
          "data": {
            "text/plain": [
              "'Big Ticket'"
            ]
          },
          "metadata": {
            "tags": []
          },
          "execution_count": 43
        }
      ]
    },
    {
      "cell_type": "code",
      "metadata": {
        "id": "cxO8dpKudQCt"
      },
      "source": [
        "Question\n",
        "Given a string print number num by extracting all the\n",
        "digits from the string as in string\n",
        "Print negative number if the first character in \n",
        "string is '-'\n",
        "eg.\n",
        "-123abcd should return -123,abcd456-->456,fdhfh78dsd89--->7889,-56dssd78-->5678"
      ],
      "execution_count": null,
      "outputs": []
    },
    {
      "cell_type": "code",
      "metadata": {
        "id": "ZO7xePv1dQCu"
      },
      "source": [
        "def NegNum(str):\n",
        "    mylist = []\n",
        "    for i in str:\n",
        "        if i.isdigit():\n",
        "            mylist.append(i)\n",
        "    num = int(\"\".join(mylist))\n",
        "    if str.startswith('-'):\n",
        "        return -num\n",
        "    return num"
      ],
      "execution_count": null,
      "outputs": []
    },
    {
      "cell_type": "code",
      "metadata": {
        "colab": {
          "base_uri": "https://localhost:8080/"
        },
        "id": "Tm1CoGqodQCu",
        "outputId": "35f44c4e-7417-4cfc-a0d4-75c758345b3a"
      },
      "source": [
        "NegNum('-123abcd')"
      ],
      "execution_count": null,
      "outputs": [
        {
          "output_type": "execute_result",
          "data": {
            "text/plain": [
              "-123"
            ]
          },
          "metadata": {
            "tags": []
          },
          "execution_count": 11
        }
      ]
    },
    {
      "cell_type": "code",
      "metadata": {
        "colab": {
          "base_uri": "https://localhost:8080/"
        },
        "id": "ARrw1j-neOlQ",
        "outputId": "55a692e3-45dd-42c8-bd4b-354b9df67356"
      },
      "source": [
        "NegNum(\"abcd456\")"
      ],
      "execution_count": null,
      "outputs": [
        {
          "output_type": "execute_result",
          "data": {
            "text/plain": [
              "456"
            ]
          },
          "metadata": {
            "tags": []
          },
          "execution_count": 12
        }
      ]
    },
    {
      "cell_type": "code",
      "metadata": {
        "colab": {
          "base_uri": "https://localhost:8080/"
        },
        "id": "XriESA_TeVVe",
        "outputId": "e9198b74-ba76-4928-9dd2-70b468566e21"
      },
      "source": [
        "NegNum(\"fdhfh78dsd89\")"
      ],
      "execution_count": null,
      "outputs": [
        {
          "output_type": "execute_result",
          "data": {
            "text/plain": [
              "7889"
            ]
          },
          "metadata": {
            "tags": []
          },
          "execution_count": 13
        }
      ]
    },
    {
      "cell_type": "code",
      "metadata": {
        "colab": {
          "base_uri": "https://localhost:8080/"
        },
        "id": "ZOhrzWO0ecAa",
        "outputId": "18dbe64e-587b-49f9-a7c6-845d3b0b5863"
      },
      "source": [
        "NegNum(\"56dssd78\")"
      ],
      "execution_count": null,
      "outputs": [
        {
          "output_type": "execute_result",
          "data": {
            "text/plain": [
              "5678"
            ]
          },
          "metadata": {
            "tags": []
          },
          "execution_count": 14
        }
      ]
    },
    {
      "cell_type": "code",
      "metadata": {
        "id": "BkcOqea7dQCv"
      },
      "source": [
        "Q2\n",
        "WAP to check whether a number is palindrome or not on following conditions.\n",
        "1. take input number\n",
        "2. add number and its reverse\n",
        "3. check that number is palindrome or not,if not then sum and its reverse"
      ],
      "execution_count": null,
      "outputs": []
    },
    {
      "cell_type": "code",
      "metadata": {
        "colab": {
          "base_uri": "https://localhost:8080/"
        },
        "id": "n8CLgGy0eJY4",
        "outputId": "211a7a52-c2be-4d42-8f07-ed498ff3d950"
      },
      "source": [
        "def fun(s):\r\n",
        "    while(True):\r\n",
        "        p=s[::-1]\r\n",
        "        e=int(p)\r\n",
        "        t=int(s)\r\n",
        "        q=e+t\r\n",
        "        q=str(q)\r\n",
        "        if q==q[::-1]:\r\n",
        "            print(q)\r\n",
        "            print(\"Given Number \",q,\" is Palindrome.\")\r\n",
        "            return\r\n",
        "        else:\r\n",
        "            print(q)\r\n",
        "            s=str(q)\r\n",
        "            \r\n",
        "num=input(\"Enter Any Number : \")\r\n",
        "fun(num)\r\n"
      ],
      "execution_count": null,
      "outputs": [
        {
          "output_type": "stream",
          "text": [
            "Enter Any Number : 22\n",
            "44\n",
            "Given Number  44  is Palindrome.\n"
          ],
          "name": "stdout"
        }
      ]
    },
    {
      "cell_type": "code",
      "metadata": {
        "id": "zEW9KMmSdQCv"
      },
      "source": [
        "Write a python function to find and display the five \n",
        "digit number in which the first digit is two more than \n",
        "the second,the second digit is two more than the third,\n",
        "the fourth digit is two less than the third, and the \n",
        "last digit is two more than\n",
        "the fourth.The sum of the third,fourth and fifth digits\n",
        "equals the first.The sum of all the digits is 19"
      ],
      "execution_count": null,
      "outputs": []
    },
    {
      "cell_type": "code",
      "metadata": {
        "id": "D217hW61dQCw"
      },
      "source": [
        "def find_five_digit():\n",
        "        for a in range(0,9):\n",
        "            b=a-2 \n",
        "            c=b-2\n",
        "            d=c-2\n",
        "            e=d+2\n",
        "            if((a+b+c+d+e==19) and  (a==c+d+e)):\n",
        "                print(a, end=\"\")\n",
        "                print(b,end=\"\")\n",
        "                print(c,end=\"\")\n",
        "                print(d,end=\"\")\n",
        "                print(e)\n",
        "    "
      ],
      "execution_count": null,
      "outputs": []
    },
    {
      "cell_type": "code",
      "metadata": {
        "colab": {
          "base_uri": "https://localhost:8080/"
        },
        "id": "nG9pef3MdQCw",
        "outputId": "b6350241-14aa-4954-aff7-de732da83143"
      },
      "source": [
        "find_five_digit()"
      ],
      "execution_count": null,
      "outputs": [
        {
          "output_type": "stream",
          "text": [
            "75313\n"
          ],
          "name": "stdout"
        }
      ]
    },
    {
      "cell_type": "markdown",
      "metadata": {
        "id": "V8y9JzPhdQCx"
      },
      "source": [
        "# Great job!"
      ]
    }
  ]
}